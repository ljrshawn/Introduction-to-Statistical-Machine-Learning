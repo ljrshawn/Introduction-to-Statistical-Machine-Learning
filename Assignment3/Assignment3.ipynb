{
 "cells": [
  {
   "cell_type": "markdown",
   "source": [
    "# Assignment 3: PCA, Kmeans and Kernel Methods\n",
    "\n",
    "Jingran Lyu a1832252"
   ],
   "metadata": {
    "collapsed": false,
    "pycharm": {
     "name": "#%% md\n"
    }
   }
  },
  {
   "cell_type": "code",
   "execution_count": 2,
   "outputs": [],
   "source": [
    "# Import libraries\n",
    "import numpy as np\n",
    "import pandas as pd"
   ],
   "metadata": {
    "collapsed": false,
    "pycharm": {
     "name": "#%%\n"
    }
   }
  },
  {
   "cell_type": "code",
   "execution_count": 3,
   "outputs": [
    {
     "data": {
      "text/plain": "   1    2    3    4    5    6    7    8    9    10   ...  775  776  777  778  \\\n0  0.0  0.0  0.0  0.0  0.0  0.0  0.0  0.0  0.0  0.0  ...  0.0  0.0  0.0  0.0   \n1  0.0  0.0  0.0  0.0  0.0  0.0  0.0  0.0  0.0  0.0  ...  0.0  0.0  0.0  0.0   \n2  0.0  0.0  0.0  0.0  0.0  0.0  0.0  0.0  0.0  0.0  ...  0.0  0.0  0.0  0.0   \n3  0.0  0.0  0.0  0.0  0.0  0.0  0.0  0.0  0.0  0.0  ...  0.0  0.0  0.0  0.0   \n4  0.0  0.0  0.0  0.0  0.0  0.0  0.0  0.0  0.0  0.0  ...  0.0  0.0  0.0  0.0   \n\n   779  780  781  782  783  784  \n0  0.0  0.0  0.0  0.0  0.0  0.0  \n1  0.0  0.0  0.0  0.0  0.0  0.0  \n2  0.0  0.0  0.0  0.0  0.0  0.0  \n3  0.0  0.0  0.0  0.0  0.0  0.0  \n4  0.0  0.0  0.0  0.0  0.0  0.0  \n\n[5 rows x 784 columns]",
      "text/html": "<div>\n<style scoped>\n    .dataframe tbody tr th:only-of-type {\n        vertical-align: middle;\n    }\n\n    .dataframe tbody tr th {\n        vertical-align: top;\n    }\n\n    .dataframe thead th {\n        text-align: right;\n    }\n</style>\n<table border=\"1\" class=\"dataframe\">\n  <thead>\n    <tr style=\"text-align: right;\">\n      <th></th>\n      <th>1</th>\n      <th>2</th>\n      <th>3</th>\n      <th>4</th>\n      <th>5</th>\n      <th>6</th>\n      <th>7</th>\n      <th>8</th>\n      <th>9</th>\n      <th>10</th>\n      <th>...</th>\n      <th>775</th>\n      <th>776</th>\n      <th>777</th>\n      <th>778</th>\n      <th>779</th>\n      <th>780</th>\n      <th>781</th>\n      <th>782</th>\n      <th>783</th>\n      <th>784</th>\n    </tr>\n  </thead>\n  <tbody>\n    <tr>\n      <th>0</th>\n      <td>0.0</td>\n      <td>0.0</td>\n      <td>0.0</td>\n      <td>0.0</td>\n      <td>0.0</td>\n      <td>0.0</td>\n      <td>0.0</td>\n      <td>0.0</td>\n      <td>0.0</td>\n      <td>0.0</td>\n      <td>...</td>\n      <td>0.0</td>\n      <td>0.0</td>\n      <td>0.0</td>\n      <td>0.0</td>\n      <td>0.0</td>\n      <td>0.0</td>\n      <td>0.0</td>\n      <td>0.0</td>\n      <td>0.0</td>\n      <td>0.0</td>\n    </tr>\n    <tr>\n      <th>1</th>\n      <td>0.0</td>\n      <td>0.0</td>\n      <td>0.0</td>\n      <td>0.0</td>\n      <td>0.0</td>\n      <td>0.0</td>\n      <td>0.0</td>\n      <td>0.0</td>\n      <td>0.0</td>\n      <td>0.0</td>\n      <td>...</td>\n      <td>0.0</td>\n      <td>0.0</td>\n      <td>0.0</td>\n      <td>0.0</td>\n      <td>0.0</td>\n      <td>0.0</td>\n      <td>0.0</td>\n      <td>0.0</td>\n      <td>0.0</td>\n      <td>0.0</td>\n    </tr>\n    <tr>\n      <th>2</th>\n      <td>0.0</td>\n      <td>0.0</td>\n      <td>0.0</td>\n      <td>0.0</td>\n      <td>0.0</td>\n      <td>0.0</td>\n      <td>0.0</td>\n      <td>0.0</td>\n      <td>0.0</td>\n      <td>0.0</td>\n      <td>...</td>\n      <td>0.0</td>\n      <td>0.0</td>\n      <td>0.0</td>\n      <td>0.0</td>\n      <td>0.0</td>\n      <td>0.0</td>\n      <td>0.0</td>\n      <td>0.0</td>\n      <td>0.0</td>\n      <td>0.0</td>\n    </tr>\n    <tr>\n      <th>3</th>\n      <td>0.0</td>\n      <td>0.0</td>\n      <td>0.0</td>\n      <td>0.0</td>\n      <td>0.0</td>\n      <td>0.0</td>\n      <td>0.0</td>\n      <td>0.0</td>\n      <td>0.0</td>\n      <td>0.0</td>\n      <td>...</td>\n      <td>0.0</td>\n      <td>0.0</td>\n      <td>0.0</td>\n      <td>0.0</td>\n      <td>0.0</td>\n      <td>0.0</td>\n      <td>0.0</td>\n      <td>0.0</td>\n      <td>0.0</td>\n      <td>0.0</td>\n    </tr>\n    <tr>\n      <th>4</th>\n      <td>0.0</td>\n      <td>0.0</td>\n      <td>0.0</td>\n      <td>0.0</td>\n      <td>0.0</td>\n      <td>0.0</td>\n      <td>0.0</td>\n      <td>0.0</td>\n      <td>0.0</td>\n      <td>0.0</td>\n      <td>...</td>\n      <td>0.0</td>\n      <td>0.0</td>\n      <td>0.0</td>\n      <td>0.0</td>\n      <td>0.0</td>\n      <td>0.0</td>\n      <td>0.0</td>\n      <td>0.0</td>\n      <td>0.0</td>\n      <td>0.0</td>\n    </tr>\n  </tbody>\n</table>\n<p>5 rows × 784 columns</p>\n</div>"
     },
     "execution_count": 3,
     "metadata": {},
     "output_type": "execute_result"
    }
   ],
   "source": [
    "# Data set\n",
    "file = pd.read_csv('/Users/shawnl/Downloads/mnist.csv', header=None)\n",
    "x = file.iloc[:, 1:]\n",
    "y = file.iloc[:, 0]\n",
    "x.head()\n",
    "# y.describe()"
   ],
   "metadata": {
    "collapsed": false,
    "pycharm": {
     "name": "#%%\n"
    }
   }
  },
  {
   "cell_type": "markdown",
   "source": [
    "PCA"
   ],
   "metadata": {
    "collapsed": false,
    "pycharm": {
     "name": "#%% md\n"
    }
   }
  },
  {
   "cell_type": "code",
   "execution_count": 4,
   "outputs": [
    {
     "data": {
      "text/plain": "array([[ 5.30558677e+00+0.j,  5.05694651e-15+0.j,  1.05296298e-15+0.j,\n         5.64975638e-16+0.j,  1.13705789e-16+0.j,  8.39172409e-16+0.j,\n         1.37394495e-16+0.j, -3.41117366e-16+0.j, -1.09915596e-15+0.j,\n         2.75973425e-16+0.j],\n       [ 5.05694651e-15+0.j,  3.87701635e+00+0.j, -1.01861436e-15+0.j,\n        -2.33096867e-15+0.j, -1.00677000e-16+0.j, -1.76169945e-15+0.j,\n         3.12690919e-16+0.j,  1.39171148e-17+0.j,  2.72420119e-17+0.j,\n         3.63621637e-16+0.j],\n       [ 1.05296298e-15+0.j, -1.01861436e-15+0.j,  3.28704664e+00+0.j,\n         3.50267129e-15+0.j, -1.39763365e-16+0.j, -1.69966465e-15+0.j,\n         1.06599177e-17+0.j,  2.46362542e-16+0.j, -6.26566273e-16+0.j,\n        -3.51185066e-16+0.j],\n       [ 5.64975638e-16+0.j, -2.33096867e-15+0.j,  3.50267129e-15+0.j,\n         2.91254096e+00+0.j, -9.11422962e-16+0.j, -3.51120292e-15+0.j,\n         9.29781710e-17+0.j,  1.44693577e-15+0.j,  1.68782030e-16+0.j,\n         2.03130654e-16+0.j],\n       [ 1.13705789e-16+0.j, -1.00677000e-16+0.j, -1.39763365e-16+0.j,\n        -9.11422962e-16+0.j,  2.48633206e+00+0.j,  3.25305155e-15+0.j,\n        -1.12521353e-15+0.j, -1.08375830e-16+0.j, -1.50423283e-16+0.j,\n         1.53088262e-16+0.j],\n       [ 8.39172409e-16+0.j, -1.76169945e-15+0.j, -1.69966465e-15+0.j,\n        -3.51120292e-15+0.j,  3.25305155e-15+0.j,  2.35358942e+00+0.j,\n        -1.42872508e-15+0.j,  9.94333433e-16+0.j, -1.15112306e-16+0.j,\n        -6.40187279e-16+0.j],\n       [ 1.37394495e-16+0.j,  3.12690919e-16+0.j,  1.06599177e-17+0.j,\n         9.29781710e-17+0.j, -1.12521353e-15+0.j, -1.42872508e-15+0.j,\n         1.75556820e+00+0.j, -8.69375509e-16+0.j, -5.10491614e-15+0.j,\n         3.83757037e-16+0.j],\n       [-3.41117366e-16+0.j,  1.39171148e-17+0.j,  2.46362542e-16+0.j,\n         1.44693577e-15+0.j, -1.08375830e-16+0.j,  9.94333433e-16+0.j,\n        -8.69375509e-16+0.j,  1.54475982e+00+0.j,  2.61523314e-15+0.j,\n         3.19797531e-17+0.j],\n       [-1.09915596e-15+0.j,  2.72420119e-17+0.j, -6.26566273e-16+0.j,\n         1.68782030e-16+0.j, -1.50423283e-16+0.j, -1.15112306e-16+0.j,\n        -5.10491614e-15+0.j,  2.61523314e-15+0.j,  1.45474519e+00+0.j,\n         5.19967096e-16+0.j],\n       [ 2.75973425e-16+0.j,  3.63621637e-16+0.j, -3.51185066e-16+0.j,\n         2.03130654e-16+0.j,  1.53088262e-16+0.j, -6.40187279e-16+0.j,\n         3.83757037e-16+0.j,  3.19797531e-17+0.j,  5.19967096e-16+0.j,\n         1.24337974e+00+0.j]])"
     },
     "execution_count": 4,
     "metadata": {},
     "output_type": "execute_result"
    }
   ],
   "source": [
    "# PCA\n",
    "def reduce_dimension(data, k):\n",
    "    # Get mean of every column\n",
    "    x_mean = np.array(np.mean(data, axis=0))\n",
    "    tem = np.array(data)\n",
    "    m, n = tem.shape\n",
    "    # Origin data minus mean\n",
    "    tem = tem - np.tile(x_mean, (m, 1))\n",
    "\n",
    "    # Calculate covariance matrix\n",
    "    cov_matrix = np.cov(tem, rowvar=False)\n",
    "    cov_eig = np.linalg.eig(cov_matrix)\n",
    "\n",
    "    # Calculate eigenvalues and eigenvectors\n",
    "    eigenvalues, eigenvectors = cov_eig[0], cov_eig[1]\n",
    "    index = eigenvalues.argsort()[::-1][:k]\n",
    "\n",
    "    trans_matrix = eigenvectors[:,index]\n",
    "\n",
    "    # Transform origin data to new dimension\n",
    "    final_matrix = np.dot(tem, trans_matrix)\n",
    "\n",
    "    # Get mean of transformed matrix\n",
    "    final_means = np.array(np.mean(final_matrix, axis=0))\n",
    "\n",
    "    final_matrix = final_matrix - np.tile(final_means, (m, 1))\n",
    "\n",
    "    new_cov_matrix = np.cov(final_matrix, rowvar=False)\n",
    "\n",
    "    return new_cov_matrix\n",
    "\n",
    "# For test case\n",
    "# xxx = pd.DataFrame([ [2.5, 2.4], [0.5, 0.7], [2.2, 2.9], [1.9, 2.2], [3.1, 3.0], [2.3, 2.7], [2, 1.6], [1, 1.1], [1.5, 1.6], [1.1, 0.9]])\n",
    "reduce_dimension(x, 10)"
   ],
   "metadata": {
    "collapsed": false,
    "pycharm": {
     "name": "#%%\n"
    }
   }
  },
  {
   "cell_type": "markdown",
   "source": [
    "k-means clustering"
   ],
   "metadata": {
    "collapsed": false,
    "pycharm": {
     "name": "#%% md\n"
    }
   }
  },
  {
   "cell_type": "code",
   "execution_count": 5,
   "outputs": [],
   "source": [
    "def calc_dis(dataset, centroids, k):\n",
    "    cla_list=[]\n",
    "    for data in dataset:\n",
    "        # Calculate distance of one sample to all centroids\n",
    "        # Euclidean metric\n",
    "        diff = np.tile(data, (k, 1)) - centroids\n",
    "        # distance = np.linalg.norm(diff,axis=1)\n",
    "        squared_diff = diff ** 2\n",
    "        squared_dist = np.sum(squared_diff, axis=1)\n",
    "        distance = squared_dist ** 0.5\n",
    "        cla_list.append(distance)\n",
    "    cla_list = np.array(cla_list)\n",
    "    return cla_list\n",
    "\n",
    "def classify(dataset, centroids, k):\n",
    "    # Calculate distance between samples to centroids\n",
    "    cla_list = calc_dis(dataset, centroids, k)\n",
    "\n",
    "    # Calculate new centroids\n",
    "    # Get the shortest distance of every sample to k centroids\n",
    "    min_dist_indices = np.argmin(cla_list, axis=1)\n",
    "    # Get new cluster and the mean will be the centroid of new cluster\n",
    "    new_centroids = pd.DataFrame(dataset).groupby(min_dist_indices).mean()\n",
    "    new_centroids = new_centroids.values\n",
    "\n",
    "    # Calculate difference of old and new centroids\n",
    "    changed = new_centroids - centroids\n",
    "\n",
    "    return changed, new_centroids\n",
    "\n",
    "def k_means_clustering(dataset, k):\n",
    "    m = dataset.shape[0]\n",
    "    # Random pick k datas as centroids\n",
    "    centroids = np.array(dataset.take(np.random.choice(m,k,replace=False),axis=0).reset_index(drop=True))\n",
    "    tem_data = np.array(dataset)\n",
    "\n",
    "    # First time calculate new centroids\n",
    "    changed, new_centroids = classify(tem_data, centroids, k)\n",
    "\n",
    "    # Iteratively execute until centroids not change\n",
    "    while np.any(changed != 0):\n",
    "        changed, new_centroids = classify(tem_data, new_centroids, k)\n",
    "\n",
    "    # Get samples of different cluster\n",
    "    centroids = sorted(new_centroids.tolist())\n",
    "\n",
    "    cluster = []\n",
    "    cla_list = calc_dis(tem_data, centroids, k)\n",
    "    min_dist_indices = np.argmin(cla_list, axis=1)\n",
    "    for i in range(k):\n",
    "        cluster.append([])\n",
    "    for i, j in enumerate(min_dist_indices):\n",
    "        cluster[j].append(tem_data[i])\n",
    "\n",
    "    return new_centroids, cluster\n",
    "\n",
    "# _centroids, _cluster = k_means_clustering(x, 10)\n",
    "# print('Centroids: %s' % _centroids)\n",
    "# # print('Cluster: %s' % _cluster)"
   ],
   "metadata": {
    "collapsed": false,
    "pycharm": {
     "name": "#%%\n"
    }
   }
  },
  {
   "cell_type": "markdown",
   "source": [
    "plot the loss curve"
   ],
   "metadata": {
    "collapsed": false,
    "pycharm": {
     "name": "#%% md\n"
    }
   }
  },
  {
   "cell_type": "code",
   "execution_count": 6,
   "outputs": [
    {
     "data": {
      "text/plain": "<Figure size 432x288 with 1 Axes>",
      "image/png": "[encoded data removed]"
     },
     "metadata": {
      "needs_background": "light"
     },
     "output_type": "display_data"
    }
   ],
   "source": [
    "import matplotlib.pyplot as plt\n",
    "\n",
    "def plot_loss_curve(dataset, k):\n",
    "    m = dataset.shape[0]\n",
    "    # Random pick k datas as centroids\n",
    "    centroids = np.array(dataset.take(np.random.choice(m,k,replace=False),axis=0).reset_index(drop=True))\n",
    "    tem_data = np.array(dataset)\n",
    "    loss = []\n",
    "\n",
    "    num = 1  # Iterations time\n",
    "    changed, new_centroids = classify(tem_data, centroids, k)\n",
    "\n",
    "    # Calculate distance between samples to centroids\n",
    "    cla_list = calc_dis(tem_data, new_centroids, k)\n",
    "\n",
    "    # Add all shortest distances\n",
    "    min_dist_indices = np.min(cla_list, axis=1)\n",
    "    loss.append(np.sum(min_dist_indices))\n",
    "    while np.any(changed != 0):\n",
    "        num += 1\n",
    "        changed, new_centroids = classify(tem_data, new_centroids, k)\n",
    "        cla_list = calc_dis(tem_data, new_centroids, k)\n",
    "        # Add all shortest distances\n",
    "        min_dist_indices = np.min(cla_list, axis=1)\n",
    "        loss.append(np.sum(min_dist_indices))\n",
    "\n",
    "    X = range(1,num+1)\n",
    "    plt.xlabel('iterations')\n",
    "    plt.ylabel('LOSE')\n",
    "    plt.plot(X,loss,'o-')\n",
    "    plt.show()\n",
    "\n",
    "plot_loss_curve(x, 10)\n"
   ],
   "metadata": {
    "collapsed": false,
    "pycharm": {
     "name": "#%%\n"
    }
   }
  },
  {
   "cell_type": "markdown",
   "source": [
    "choose the best k in k-means"
   ],
   "metadata": {
    "collapsed": false,
    "pycharm": {
     "name": "#%% md\n"
    }
   }
  },
  {
   "cell_type": "code",
   "execution_count": 7,
   "outputs": [],
   "source": [
    "# Check loss function\n",
    "def loss_dis(tem_data, centroids, k):\n",
    "    cla_list = calc_dis(tem_data, centroids, k)\n",
    "    min_dist_indices = np.min(cla_list, axis=1) ** 2\n",
    "    distance = np.sum(min_dist_indices)\n",
    "\n",
    "    return distance\n",
    "\n",
    "# For test\n",
    "# def plot_loss_function_curve(data):\n",
    "#     tem_data = np.array(data)\n",
    "#     sse = []\n",
    "#     for k in range(1,15):\n",
    "#         result_centroids, result_cluster = k_means_clustering(data, k)\n",
    "#         sse.append(loss_dis(tem_data, result_centroids, k))\n",
    "#\n",
    "#     X = range(1,15)\n",
    "#     plt.xlabel('k')\n",
    "#     plt.ylabel('SSE')\n",
    "#     plt.plot(X,sse,'o-')\n",
    "#     plt.show()\n",
    "#\n",
    "# plot_loss_function_curve(x)"
   ],
   "metadata": {
    "collapsed": false,
    "pycharm": {
     "name": "#%%\n"
    }
   }
  },
  {
   "cell_type": "code",
   "execution_count": 11,
   "outputs": [
    {
     "data": {
      "text/plain": "<Figure size 432x288 with 1 Axes>",
      "image/png": "[encoded data removed]"
     },
     "metadata": {
      "needs_background": "light"
     },
     "output_type": "display_data"
    },
    {
     "data": {
      "text/plain": "27"
     },
     "execution_count": 11,
     "metadata": {},
     "output_type": "execute_result"
    }
   ],
   "source": [
    "def best_k(dataset, size):\n",
    "    # Split data to train and valid\n",
    "    train, valid = dataset.iloc[:size, :], np.array(dataset.iloc[size:, :])\n",
    "    k=1\n",
    "\n",
    "    # Calculate centroids and cluster\n",
    "    result_centroids, result_cluster = k_means_clustering(train, k)\n",
    "    # Calculate loss function\n",
    "    distance_cur = loss_dis(valid, result_centroids, k)\n",
    "\n",
    "    dist_diff = [distance_cur]  # Distance between previous loss and current loss\n",
    "    for k in range(2,100):\n",
    "\n",
    "        distance_bef = distance_cur\n",
    "        # Calculate centroids and cluster\n",
    "        result_centroids, result_cluster = k_means_clustering(train, k)\n",
    "        distance_cur = loss_dis(valid, result_centroids, k)\n",
    "\n",
    "        dist_diff.append(distance_cur)\n",
    "        # When loss difference is current smallest\n",
    "        if distance_bef < distance_cur:\n",
    "            break\n",
    "\n",
    "    X = range(1,k+1)\n",
    "    plt.xlabel('k')\n",
    "    plt.ylabel('dist_diff')\n",
    "    plt.plot(X,dist_diff,'o-')\n",
    "    plt.show()\n",
    "    return k-1\n",
    "\n",
    "best_k(x, 4000)"
   ],
   "metadata": {
    "collapsed": false,
    "pycharm": {
     "name": "#%%\n"
    }
   }
  },
  {
   "cell_type": "markdown",
   "source": [
    "RBF-kernel"
   ],
   "metadata": {
    "collapsed": false,
    "pycharm": {
     "name": "#%% md\n"
    }
   }
  },
  {
   "cell_type": "code",
   "execution_count": 528,
   "outputs": [
    {
     "name": "stdout",
     "output_type": "stream",
     "text": [
      "1\n",
      "1\n",
      "1\n",
      "1\n",
      "1\n",
      "1\n",
      "1\n",
      "1\n",
      "1\n",
      "1\n",
      "1\n",
      "1\n",
      "1\n",
      "1\n",
      "1\n",
      "1\n",
      "1\n",
      "1\n",
      "1\n",
      "1\n",
      "1\n",
      "1\n",
      "1\n",
      "1\n",
      "1\n",
      "1\n",
      "1\n",
      "1\n",
      "1\n",
      "1\n",
      "1\n",
      "1\n",
      "1\n",
      "1\n",
      "1\n",
      "1\n",
      "1\n",
      "1\n",
      "1\n",
      "1\n",
      "1\n",
      "1\n",
      "1\n",
      "1\n",
      "1\n",
      "1\n",
      "1\n",
      "1\n",
      "1\n",
      "1\n",
      "1\n",
      "1\n",
      "1\n",
      "1\n",
      "1\n",
      "1\n",
      "1\n",
      "1\n"
     ]
    },
    {
     "ename": "KeyboardInterrupt",
     "evalue": "",
     "output_type": "error",
     "traceback": [
      "\u001B[0;31m---------------------------------------------------------------------------\u001B[0m",
      "\u001B[0;31mKeyboardInterrupt\u001B[0m                         Traceback (most recent call last)",
      "\u001B[0;32m/var/folders/69/vqyk68kn00n8gg7hr5l1klrr0000gn/T/ipykernel_6722/1462860092.py\u001B[0m in \u001B[0;36m<module>\u001B[0;34m\u001B[0m\n\u001B[1;32m    134\u001B[0m \u001B[0;34m\u001B[0m\u001B[0m\n\u001B[1;32m    135\u001B[0m \u001B[0;34m\u001B[0m\u001B[0m\n\u001B[0;32m--> 136\u001B[0;31m \u001B[0mkernel_k_means\u001B[0m\u001B[0;34m(\u001B[0m\u001B[0mx\u001B[0m\u001B[0;34m,\u001B[0m \u001B[0;36m5\u001B[0m\u001B[0;34m)\u001B[0m\u001B[0;34m\u001B[0m\u001B[0;34m\u001B[0m\u001B[0m\n\u001B[0m",
      "\u001B[0;32m/var/folders/69/vqyk68kn00n8gg7hr5l1klrr0000gn/T/ipykernel_6722/1462860092.py\u001B[0m in \u001B[0;36mkernel_k_means\u001B[0;34m(dataset, k)\u001B[0m\n\u001B[1;32m    101\u001B[0m         \u001B[0;31m# k<xi, xi> should be 0\u001B[0m\u001B[0;34m\u001B[0m\u001B[0;34m\u001B[0m\u001B[0;34m\u001B[0m\u001B[0m\n\u001B[1;32m    102\u001B[0m         \u001B[0;31m# Second section k<xj, xi>\u001B[0m\u001B[0;34m\u001B[0m\u001B[0;34m\u001B[0m\u001B[0;34m\u001B[0m\u001B[0m\n\u001B[0;32m--> 103\u001B[0;31m         \u001B[0mkernel\u001B[0m \u001B[0;34m=\u001B[0m \u001B[0mgaussian_kernel\u001B[0m\u001B[0;34m(\u001B[0m\u001B[0mtrain\u001B[0m\u001B[0;34m,\u001B[0m \u001B[0mcluster\u001B[0m\u001B[0;34m)\u001B[0m\u001B[0;34m\u001B[0m\u001B[0;34m\u001B[0m\u001B[0m\n\u001B[0m\u001B[1;32m    104\u001B[0m         \u001B[0;31m# rj * -2\u001B[0m\u001B[0;34m\u001B[0m\u001B[0;34m\u001B[0m\u001B[0;34m\u001B[0m\u001B[0m\n\u001B[1;32m    105\u001B[0m         \u001B[0mf_x_1\u001B[0m \u001B[0;34m=\u001B[0m \u001B[0;34m-\u001B[0m\u001B[0;36m2\u001B[0m \u001B[0;34m/\u001B[0m \u001B[0mnp\u001B[0m\u001B[0;34m.\u001B[0m\u001B[0marray\u001B[0m\u001B[0;34m(\u001B[0m\u001B[0;34m[\u001B[0m\u001B[0mlen\u001B[0m\u001B[0;34m(\u001B[0m\u001B[0mclu\u001B[0m\u001B[0;34m)\u001B[0m \u001B[0;32mfor\u001B[0m \u001B[0mclu\u001B[0m \u001B[0;32min\u001B[0m \u001B[0mcluster\u001B[0m\u001B[0;34m]\u001B[0m\u001B[0;34m)\u001B[0m\u001B[0;34m\u001B[0m\u001B[0;34m\u001B[0m\u001B[0m\n",
      "\u001B[0;32m/var/folders/69/vqyk68kn00n8gg7hr5l1klrr0000gn/T/ipykernel_6722/1462860092.py\u001B[0m in \u001B[0;36mgaussian_kernel\u001B[0;34m(dataset, cluster)\u001B[0m\n\u001B[1;32m     12\u001B[0m         \u001B[0;32mfor\u001B[0m \u001B[0mi\u001B[0m \u001B[0;32min\u001B[0m \u001B[0mcluster\u001B[0m\u001B[0;34m:\u001B[0m\u001B[0;34m\u001B[0m\u001B[0;34m\u001B[0m\u001B[0m\n\u001B[1;32m     13\u001B[0m             \u001B[0mk\u001B[0m \u001B[0;34m=\u001B[0m \u001B[0mlen\u001B[0m\u001B[0;34m(\u001B[0m\u001B[0mi\u001B[0m\u001B[0;34m)\u001B[0m\u001B[0;34m\u001B[0m\u001B[0;34m\u001B[0m\u001B[0m\n\u001B[0;32m---> 14\u001B[0;31m             \u001B[0mtem_diff\u001B[0m \u001B[0;34m=\u001B[0m \u001B[0mnp\u001B[0m\u001B[0;34m.\u001B[0m\u001B[0mtile\u001B[0m\u001B[0;34m(\u001B[0m\u001B[0mdata\u001B[0m\u001B[0;34m,\u001B[0m \u001B[0;34m(\u001B[0m\u001B[0mk\u001B[0m\u001B[0;34m,\u001B[0m \u001B[0;36m1\u001B[0m\u001B[0;34m)\u001B[0m\u001B[0;34m)\u001B[0m \u001B[0;34m-\u001B[0m \u001B[0mnp\u001B[0m\u001B[0;34m.\u001B[0m\u001B[0marray\u001B[0m\u001B[0;34m(\u001B[0m\u001B[0mi\u001B[0m\u001B[0;34m)\u001B[0m\u001B[0;34m\u001B[0m\u001B[0;34m\u001B[0m\u001B[0m\n\u001B[0m\u001B[1;32m     15\u001B[0m             \u001B[0mdiff\u001B[0m \u001B[0;34m=\u001B[0m \u001B[0mnp\u001B[0m\u001B[0;34m.\u001B[0m\u001B[0mlinalg\u001B[0m\u001B[0;34m.\u001B[0m\u001B[0mnorm\u001B[0m\u001B[0;34m(\u001B[0m\u001B[0mtem_diff\u001B[0m\u001B[0;34m,\u001B[0m\u001B[0maxis\u001B[0m\u001B[0;34m=\u001B[0m\u001B[0;36m1\u001B[0m\u001B[0;34m)\u001B[0m \u001B[0;34m**\u001B[0m \u001B[0;36m2\u001B[0m\u001B[0;34m\u001B[0m\u001B[0;34m\u001B[0m\u001B[0m\n\u001B[1;32m     16\u001B[0m             \u001B[0msum_diff\u001B[0m \u001B[0;34m=\u001B[0m \u001B[0mnp\u001B[0m\u001B[0;34m.\u001B[0m\u001B[0msum\u001B[0m\u001B[0;34m(\u001B[0m\u001B[0mdiff\u001B[0m\u001B[0;34m)\u001B[0m\u001B[0;34m\u001B[0m\u001B[0;34m\u001B[0m\u001B[0m\n",
      "\u001B[0;31mKeyboardInterrupt\u001B[0m: "
     ]
    }
   ],
   "source": [
    "# RBF-kernel k means\n",
    "def gaussian_kernel(dataset, cluster):\n",
    "    tem_data = np.array(dataset)\n",
    "    m = dataset.shape[0]\n",
    "    clu_dis = []\n",
    "    total_dis = 0\n",
    "\n",
    "    # For every sample calculate the distance between it to all the clusters' points\n",
    "    for data in tem_data:\n",
    "        distances = []\n",
    "        # In every cluster, calculate distance\n",
    "        for i in cluster:\n",
    "            k = len(i)\n",
    "            tem_diff = np.tile(data, (k, 1)) - np.array(i)\n",
    "            diff = np.linalg.norm(tem_diff,axis=1) ** 2\n",
    "            sum_diff = np.sum(diff)\n",
    "            # Get total distance\n",
    "            total_dis += sum_diff\n",
    "            distances.append(sum_diff)\n",
    "        clu_dis.append(distances)\n",
    "    for c in range(len(clu_dis)):\n",
    "        clu_dis[c] = np.exp((-1 * m * m * np.array(clu_dis[c]) / total_dis))\n",
    "\n",
    "    return clu_dis\n",
    "\n",
    "def assign(dataset, f_x, g_c, k, clu_list):\n",
    "    m = dataset.shape[0]\n",
    "    new_clu_list = [0 for i in range(m)]\n",
    "    new_cluster = [[] for i in range(k)]\n",
    "\n",
    "    res = f_x + np.tile(g_c, (m, 1))\n",
    "    for i in range(len(res)):\n",
    "        new_clu_list[i] = np.argmin(res[i])\n",
    "    # print(new_clu_list)\n",
    "\n",
    "    # Prevent there is cluster empty\n",
    "    index = pd.DataFrame([new_clu_list.count(ind)] for ind in range(k))\n",
    "\n",
    "    max_num = max(index.values)[0]\n",
    "    min_num = min(index.values)[0]\n",
    "    if max_num == m:\n",
    "        max_ind = index[index.values==max_num].index.tolist()[0]\n",
    "        kk = 0\n",
    "        ind = 0\n",
    "        while kk != k:\n",
    "            if new_clu_list[ind] == max_ind:\n",
    "                new_clu_list[ind] = kk\n",
    "                kk+=1\n",
    "            ind+=1\n",
    "        new_clu_list = np.random.permutation(new_clu_list)\n",
    "\n",
    "    elif min_num == 0:\n",
    "        min_ind = index[index.values==min_num].index.tolist()\n",
    "        max_ind = index[index.values==max_num].index.tolist()\n",
    "        if len(min_ind) == 1:\n",
    "            ind = 0\n",
    "            while True:\n",
    "                if new_clu_list[ind] == max_ind[0]:\n",
    "                    new_clu_list[ind] = min_ind[0]\n",
    "                    break\n",
    "                ind+=1\n",
    "        else:\n",
    "            if len(min_ind) < max_num:\n",
    "                ind = 0\n",
    "                while len(min_ind) != 0:\n",
    "                    if new_clu_list[ind] == max_ind[0]:\n",
    "                        new_clu_list[ind] = min_ind[0]\n",
    "                        min_ind.pop(0)\n",
    "                    ind+=1\n",
    "        new_clu_list = np.random.permutation(new_clu_list)\n",
    "\n",
    "\n",
    "    # Get new cluster\n",
    "    data_group = dataset.groupby(new_clu_list)\n",
    "    for i,j in data_group:\n",
    "        new_cluster[i] = j.values.tolist()\n",
    "\n",
    "    changed = np.array(new_clu_list) - np.array(clu_list)\n",
    "\n",
    "    return changed, new_cluster, new_clu_list\n",
    "\n",
    "def kernel_k_means(dataset, k):\n",
    "    train = dataset.iloc[:500, :]\n",
    "    m = train.shape[0]\n",
    "    # Random split to k clusters\n",
    "    shuffled = train.sample(frac=1)\n",
    "    tem_data = np.array_split(shuffled, k)\n",
    "    clu_list = [0 for i in range(m)]\n",
    "    cluster = [[] for i in range(k)]\n",
    "\n",
    "    # Get list to show the cluster index of different sample\n",
    "    for i, j in enumerate(tem_data):\n",
    "        cluster[i] = j.values.tolist()\n",
    "        for ind in j.index.values:\n",
    "            clu_list[ind] = i\n",
    "\n",
    "    changed = clu_list\n",
    "    # Iteratively execute until cluster index of different sample not change\n",
    "    while np.any(changed != 0):\n",
    "        # function = k<xi, xi> - 2 acc_j rj k<xj, xi> + acc_i acc_j ri rj k<xj, xi>\n",
    "        # k<xi, xi> should be 0\n",
    "        # Second section k<xj, xi>\n",
    "        kernel = gaussian_kernel(train, cluster)\n",
    "        # rj * -2\n",
    "        f_x_1 = -2 / np.array([len(clu) for clu in cluster])\n",
    "        # Second section\n",
    "        f_x = []\n",
    "        for kl in kernel:\n",
    "            f_x.append(np.multiply(kl, f_x_1))\n",
    "        f_x = np.array(f_x, dtype=object)\n",
    "\n",
    "        # Third section\n",
    "        g_c = (1 / np.array([len(clu) for clu in cluster]) ** 2)\n",
    "\n",
    "        # Get cluster changes and new clusters\n",
    "        changed, cluster, clu_list = assign(train, f_x, g_c ,k, clu_list)\n",
    "        print(1)\n",
    "\n",
    "\n",
    "    print(cluster)\n",
    "\n",
    "    # For test\n",
    "    # kernel_colors = ['red','yellow','green']\n",
    "    # new_centroids = pd.DataFrame(dataset).groupby(clu_list).mean() #DataFramte(dataSet)\n",
    "    # new_centroids = new_centroids.values\n",
    "    # plt.scatter(new_centroids[0][0],new_centroids[0][1],color = kernel_colors[0],s=200)\n",
    "    # plt.scatter(new_centroids[1][0],new_centroids[1][1],color = kernel_colors[1],s=200)\n",
    "    # plt.scatter(new_centroids[2][0],new_centroids[2][1],color = kernel_colors[2],s=200)\n",
    "    #\n",
    "    # for i in range(len(cluster)):\n",
    "    #     for j in cluster[i] :\n",
    "    #         plt.scatter(j[0],j[1],color = kernel_colors[i],alpha= 0.5,s=50)\n",
    "\n",
    "\n",
    "\n",
    "kernel_k_means(x, 5)"
   ],
   "metadata": {
    "collapsed": false,
    "pycharm": {
     "name": "#%%\n"
    }
   }
  },
  {
   "cell_type": "code",
   "execution_count": null,
   "outputs": [],
   "source": [],
   "metadata": {
    "collapsed": false,
    "pycharm": {
     "name": "#%%\n"
    }
   }
  }
 ],
 "metadata": {
  "kernelspec": {
   "display_name": "Python 3",
   "language": "python",
   "name": "python3"
  },
  "language_info": {
   "codemirror_mode": {
    "name": "ipython",
    "version": 2
   },
   "file_extension": ".py",
   "mimetype": "text/x-python",
   "name": "python",
   "nbconvert_exporter": "python",
   "pygments_lexer": "ipython2",
   "version": "2.7.6"
  }
 },
 "nbformat": 4,
 "nbformat_minor": 0
}